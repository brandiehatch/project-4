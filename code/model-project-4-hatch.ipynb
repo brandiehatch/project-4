{
 "cells": [
  {
   "cell_type": "markdown",
   "metadata": {},
   "source": [
    "# Project 4 - Hackathon Project<br>\n",
    "\n",
    "Brandie Hatch"
   ]
  },
  {
   "cell_type": "markdown",
   "metadata": {},
   "source": [
    "- Preprocessing\n",
    "- Modeling\n",
    "- Evaluation\n",
    "- Conclusions & Next Steps"
   ]
  },
  {
   "cell_type": "markdown",
   "metadata": {},
   "source": [
    "## Preprocessing"
   ]
  },
  {
   "cell_type": "code",
   "execution_count": 170,
   "metadata": {},
   "outputs": [],
   "source": [
    "# Imports\n",
    "import pandas as pd\n",
    "import numpy as np\n",
    "import matplotlib.pyplot as plt\n",
    "import seaborn as sns\n",
    "import scipy.stats as stats\n",
    "import statsmodels.api as sm\n",
    "\n",
    "%matplotlib inline\n",
    "\n",
    "from sklearn.linear_model import LinearRegression, LogisticRegression, LassoCV, RidgeCV, Ridge, Lasso, ElasticNet, ElasticNetCV\n",
    "from sklearn.metrics import mean_squared_error, r2_score, mean_absolute_error, confusion_matrix, plot_confusion_matrix, ConfusionMatrixDisplay\n",
    "from sklearn.neighbors import KNeighborsRegressor\n",
    "from sklearn.model_selection import train_test_split, cross_val_score, cross_val_predict, GridSearchCV, learning_curve\n",
    "from sklearn.preprocessing import StandardScaler, PolynomialFeatures, OneHotEncoder\n",
    "from sklearn.pipeline import Pipeline\n",
    "from sklearn.compose import make_column_transformer, ColumnTransformer, TransformedTargetRegressor\n",
    "from sklearn.decomposition import PCA\n",
    "\n",
    "pd.options.display.max_columns =999\n",
    "\n",
    "import sys\n",
    "if not sys.warnoptions:\n",
    "    import warnings\n",
    "    warnings.simplefilter(\"ignore\")"
   ]
  },
  {
   "cell_type": "code",
   "execution_count": 102,
   "metadata": {},
   "outputs": [
    {
     "name": "stdout",
     "output_type": "stream",
     "text": [
      "(45211, 9)\n"
     ]
    },
    {
     "data": {
      "text/html": [
       "<div>\n",
       "<style scoped>\n",
       "    .dataframe tbody tr th:only-of-type {\n",
       "        vertical-align: middle;\n",
       "    }\n",
       "\n",
       "    .dataframe tbody tr th {\n",
       "        vertical-align: top;\n",
       "    }\n",
       "\n",
       "    .dataframe thead th {\n",
       "        text-align: right;\n",
       "    }\n",
       "</style>\n",
       "<table border=\"1\" class=\"dataframe\">\n",
       "  <thead>\n",
       "    <tr style=\"text-align: right;\">\n",
       "      <th></th>\n",
       "      <th>age</th>\n",
       "      <th>job</th>\n",
       "      <th>marital</th>\n",
       "      <th>education</th>\n",
       "      <th>default</th>\n",
       "      <th>balance</th>\n",
       "      <th>housing</th>\n",
       "      <th>personal</th>\n",
       "      <th>termdep</th>\n",
       "    </tr>\n",
       "  </thead>\n",
       "  <tbody>\n",
       "    <tr>\n",
       "      <th>0</th>\n",
       "      <td>58</td>\n",
       "      <td>management</td>\n",
       "      <td>married</td>\n",
       "      <td>tertiary</td>\n",
       "      <td>0</td>\n",
       "      <td>2143</td>\n",
       "      <td>1</td>\n",
       "      <td>0</td>\n",
       "      <td>0</td>\n",
       "    </tr>\n",
       "    <tr>\n",
       "      <th>1</th>\n",
       "      <td>44</td>\n",
       "      <td>technician</td>\n",
       "      <td>single</td>\n",
       "      <td>secondary</td>\n",
       "      <td>0</td>\n",
       "      <td>29</td>\n",
       "      <td>1</td>\n",
       "      <td>0</td>\n",
       "      <td>0</td>\n",
       "    </tr>\n",
       "    <tr>\n",
       "      <th>2</th>\n",
       "      <td>33</td>\n",
       "      <td>entrepreneur</td>\n",
       "      <td>married</td>\n",
       "      <td>secondary</td>\n",
       "      <td>0</td>\n",
       "      <td>2</td>\n",
       "      <td>1</td>\n",
       "      <td>1</td>\n",
       "      <td>0</td>\n",
       "    </tr>\n",
       "    <tr>\n",
       "      <th>3</th>\n",
       "      <td>47</td>\n",
       "      <td>blue-collar</td>\n",
       "      <td>married</td>\n",
       "      <td>unknown</td>\n",
       "      <td>0</td>\n",
       "      <td>1506</td>\n",
       "      <td>1</td>\n",
       "      <td>0</td>\n",
       "      <td>0</td>\n",
       "    </tr>\n",
       "    <tr>\n",
       "      <th>4</th>\n",
       "      <td>33</td>\n",
       "      <td>unknown</td>\n",
       "      <td>single</td>\n",
       "      <td>unknown</td>\n",
       "      <td>0</td>\n",
       "      <td>1</td>\n",
       "      <td>0</td>\n",
       "      <td>0</td>\n",
       "      <td>0</td>\n",
       "    </tr>\n",
       "  </tbody>\n",
       "</table>\n",
       "</div>"
      ],
      "text/plain": [
       "   age           job  marital  education  default  balance  housing  personal  \\\n",
       "0   58    management  married   tertiary        0     2143        1         0   \n",
       "1   44    technician   single  secondary        0       29        1         0   \n",
       "2   33  entrepreneur  married  secondary        0        2        1         1   \n",
       "3   47   blue-collar  married    unknown        0     1506        1         0   \n",
       "4   33       unknown   single    unknown        0        1        0         0   \n",
       "\n",
       "   termdep  \n",
       "0        0  \n",
       "1        0  \n",
       "2        0  \n",
       "3        0  \n",
       "4        0  "
      ]
     },
     "execution_count": 102,
     "metadata": {},
     "output_type": "execute_result"
    }
   ],
   "source": [
    "df = pd.read_csv('../data/bank_clean.csv', index_col=False)\n",
    "print(df.shape)\n",
    "df.head()"
   ]
  },
  {
   "cell_type": "code",
   "execution_count": 103,
   "metadata": {},
   "outputs": [],
   "source": [
    "# Define X, y, and train/test/split (stratify because of categorical 0/1 data for y)\n",
    "X = df.drop(columns='default')\n",
    "y = df['default']\n",
    "\n",
    "X_train, X_test, y_train, y_test = train_test_split(\n",
    "    X,\n",
    "    y,\n",
    "    test_size=.03,\n",
    "    random_state=42,\n",
    "    stratify=y\n",
    ")"
   ]
  },
  {
   "cell_type": "code",
   "execution_count": 104,
   "metadata": {},
   "outputs": [
    {
     "name": "stdout",
     "output_type": "stream",
     "text": [
      "Shape of original data frame: (45211, 9)\n",
      " \n",
      "Shape of X train: (43854, 8)\n",
      "Shape of y train: (43854,)\n",
      " \n",
      "Shape of X test: (1357, 8)\n",
      "Shape of y test: (1357,)\n"
     ]
    },
    {
     "data": {
      "text/html": [
       "<div>\n",
       "<style scoped>\n",
       "    .dataframe tbody tr th:only-of-type {\n",
       "        vertical-align: middle;\n",
       "    }\n",
       "\n",
       "    .dataframe tbody tr th {\n",
       "        vertical-align: top;\n",
       "    }\n",
       "\n",
       "    .dataframe thead th {\n",
       "        text-align: right;\n",
       "    }\n",
       "</style>\n",
       "<table border=\"1\" class=\"dataframe\">\n",
       "  <thead>\n",
       "    <tr style=\"text-align: right;\">\n",
       "      <th></th>\n",
       "      <th>age</th>\n",
       "      <th>job</th>\n",
       "      <th>marital</th>\n",
       "      <th>education</th>\n",
       "      <th>balance</th>\n",
       "      <th>housing</th>\n",
       "      <th>personal</th>\n",
       "      <th>termdep</th>\n",
       "    </tr>\n",
       "  </thead>\n",
       "  <tbody>\n",
       "    <tr>\n",
       "      <th>44050</th>\n",
       "      <td>74</td>\n",
       "      <td>retired</td>\n",
       "      <td>divorced</td>\n",
       "      <td>primary</td>\n",
       "      <td>29080</td>\n",
       "      <td>0</td>\n",
       "      <td>0</td>\n",
       "      <td>1</td>\n",
       "    </tr>\n",
       "    <tr>\n",
       "      <th>42112</th>\n",
       "      <td>32</td>\n",
       "      <td>student</td>\n",
       "      <td>married</td>\n",
       "      <td>secondary</td>\n",
       "      <td>833</td>\n",
       "      <td>1</td>\n",
       "      <td>0</td>\n",
       "      <td>0</td>\n",
       "    </tr>\n",
       "    <tr>\n",
       "      <th>20135</th>\n",
       "      <td>30</td>\n",
       "      <td>entrepreneur</td>\n",
       "      <td>married</td>\n",
       "      <td>tertiary</td>\n",
       "      <td>5</td>\n",
       "      <td>0</td>\n",
       "      <td>0</td>\n",
       "      <td>0</td>\n",
       "    </tr>\n",
       "    <tr>\n",
       "      <th>42230</th>\n",
       "      <td>42</td>\n",
       "      <td>technician</td>\n",
       "      <td>married</td>\n",
       "      <td>secondary</td>\n",
       "      <td>994</td>\n",
       "      <td>1</td>\n",
       "      <td>0</td>\n",
       "      <td>1</td>\n",
       "    </tr>\n",
       "    <tr>\n",
       "      <th>25134</th>\n",
       "      <td>32</td>\n",
       "      <td>services</td>\n",
       "      <td>divorced</td>\n",
       "      <td>secondary</td>\n",
       "      <td>453</td>\n",
       "      <td>1</td>\n",
       "      <td>0</td>\n",
       "      <td>0</td>\n",
       "    </tr>\n",
       "  </tbody>\n",
       "</table>\n",
       "</div>"
      ],
      "text/plain": [
       "       age           job   marital  education  balance  housing  personal  \\\n",
       "44050   74       retired  divorced    primary    29080        0         0   \n",
       "42112   32       student   married  secondary      833        1         0   \n",
       "20135   30  entrepreneur   married   tertiary        5        0         0   \n",
       "42230   42    technician   married  secondary      994        1         0   \n",
       "25134   32      services  divorced  secondary      453        1         0   \n",
       "\n",
       "       termdep  \n",
       "44050        1  \n",
       "42112        0  \n",
       "20135        0  \n",
       "42230        1  \n",
       "25134        0  "
      ]
     },
     "execution_count": 104,
     "metadata": {},
     "output_type": "execute_result"
    }
   ],
   "source": [
    "# Print shapes and head to confirm train/test/split\n",
    "print(f\"Shape of original data frame: {df.shape}\")\n",
    "print(\" \")\n",
    "print(f\"Shape of X train: {X_train.shape}\")\n",
    "print(f\"Shape of y train: {y_train.shape}\")\n",
    "print(\" \")\n",
    "print(f\"Shape of X test: {X_test.shape}\")\n",
    "print(f\"Shape of y test: {y_test.shape}\")\n",
    "X_train.head()"
   ]
  },
  {
   "cell_type": "markdown",
   "metadata": {},
   "source": [
    "### Prepare job, marital, and education"
   ]
  },
  {
   "cell_type": "code",
   "execution_count": 105,
   "metadata": {},
   "outputs": [
    {
     "data": {
      "text/plain": [
       "blue-collar      9423\n",
       "management       9173\n",
       "technician       7371\n",
       "admin.           5034\n",
       "services         4022\n",
       "retired          2199\n",
       "self-employed    1541\n",
       "entrepreneur     1456\n",
       "unemployed       1254\n",
       "housemaid        1201\n",
       "student           903\n",
       "unknown           277\n",
       "Name: job, dtype: int64"
      ]
     },
     "execution_count": 105,
     "metadata": {},
     "output_type": "execute_result"
    }
   ],
   "source": [
    "X_train['job'].value_counts()"
   ]
  },
  {
   "cell_type": "code",
   "execution_count": 106,
   "metadata": {},
   "outputs": [
    {
     "data": {
      "text/plain": [
       "married     26385\n",
       "single      12419\n",
       "divorced     5050\n",
       "Name: marital, dtype: int64"
      ]
     },
     "execution_count": 106,
     "metadata": {},
     "output_type": "execute_result"
    }
   ],
   "source": [
    "X_train['marital'].value_counts()"
   ]
  },
  {
   "cell_type": "code",
   "execution_count": 107,
   "metadata": {},
   "outputs": [
    {
     "data": {
      "text/plain": [
       "secondary    22506\n",
       "tertiary     12895\n",
       "primary       6653\n",
       "unknown       1800\n",
       "Name: education, dtype: int64"
      ]
     },
     "execution_count": 107,
     "metadata": {},
     "output_type": "execute_result"
    }
   ],
   "source": [
    "X_train['education'].value_counts()"
   ]
  },
  {
   "cell_type": "code",
   "execution_count": 108,
   "metadata": {},
   "outputs": [],
   "source": [
    "numeric = [col for col in X_train._get_numeric_data().columns if col not in 'default']\n",
    "categorical = [col for col in X_train.columns if col not in numeric and col not in 'default']"
   ]
  },
  {
   "cell_type": "code",
   "execution_count": 143,
   "metadata": {},
   "outputs": [],
   "source": [
    "# Make column transformer for job, marital, and education; \n",
    "col_trans = ColumnTransformer(\n",
    "    [('ss', StandardScaler(), numeric),\n",
    "    ('ohe', OneHotEncoder(sparse=False, drop='if_binary', handle_unknown='ignore'), categorical)],\n",
    "    sparse_threshold=0\n",
    ")"
   ]
  },
  {
   "cell_type": "code",
   "execution_count": 144,
   "metadata": {},
   "outputs": [
    {
     "data": {
      "text/plain": [
       "array([[ 3.11313413,  9.16891124, -1.11961857, ...,  0.        ,\n",
       "         0.        ,  0.        ],\n",
       "       [-0.84228288, -0.17432059,  0.89316132, ...,  1.        ,\n",
       "         0.        ,  0.        ],\n",
       "       [-1.03063607, -0.44819731, -1.11961857, ...,  0.        ,\n",
       "         1.        ,  0.        ],\n",
       "       ...,\n",
       "       [-1.40734245, -0.3651743 ,  0.89316132, ...,  1.        ,\n",
       "         0.        ,  0.        ],\n",
       "       [ 1.13542563,  1.29032453, -1.11961857, ...,  0.        ,\n",
       "         1.        ,  0.        ],\n",
       "       [ 0.19365967,  0.45347897, -1.11961857, ...,  0.        ,\n",
       "         1.        ,  0.        ]])"
      ]
     },
     "execution_count": 144,
     "metadata": {},
     "output_type": "execute_result"
    }
   ],
   "source": [
    "col_trans.fit_transform(X_train)"
   ]
  },
  {
   "cell_type": "code",
   "execution_count": 176,
   "metadata": {},
   "outputs": [],
   "source": [
    "# Create Pipeline for transformers, scaling, and estimating + instantiate Regression\n",
    "pipe = Pipeline([\n",
    "    ('col_trans', col_trans),\n",
    "    ('pca', PCA()),\n",
    "    ('lr', LogisticRegression())\n",
    "])\n",
    "\n",
    "lr_params= {\n",
    "    'col_trans__remainder': ['passthrough'],\n",
    "    'pca__n_components': range(1,X.shape[1]+1,1),\n",
    "    'lr__penalty': ['l2', 'l1', 'elasticnet'],\n",
    "    'lr__C': [0.001, 0.1, 1, 100, 1000]\n",
    "}"
   ]
  },
  {
   "cell_type": "code",
   "execution_count": 177,
   "metadata": {},
   "outputs": [],
   "source": [
    "# Gridsearch for instantiation and running model\n",
    "gs = GridSearchCV(\n",
    "    pipe,\n",
    "    lr_params,\n",
    "    cv=5\n",
    ")"
   ]
  },
  {
   "cell_type": "markdown",
   "metadata": {},
   "source": [
    "## Modeling\n"
   ]
  },
  {
   "cell_type": "code",
   "execution_count": 178,
   "metadata": {},
   "outputs": [
    {
     "data": {
      "text/plain": [
       "GridSearchCV(cv=5,\n",
       "             estimator=Pipeline(steps=[('col_trans',\n",
       "                                        ColumnTransformer(sparse_threshold=0,\n",
       "                                                          transformers=[('ss',\n",
       "                                                                         StandardScaler(),\n",
       "                                                                         ['age',\n",
       "                                                                          'balance',\n",
       "                                                                          'housing',\n",
       "                                                                          'personal',\n",
       "                                                                          'termdep']),\n",
       "                                                                        ('ohe',\n",
       "                                                                         OneHotEncoder(drop='if_binary',\n",
       "                                                                                       handle_unknown='ignore',\n",
       "                                                                                       sparse=False),\n",
       "                                                                         ['job',\n",
       "                                                                          'marital',\n",
       "                                                                          'education'])])),\n",
       "                                       ('pca', PCA()),\n",
       "                                       ('lr', LogisticRegression())]),\n",
       "             param_grid={'col_trans__remainder': ['passthrough'],\n",
       "                         'lr__C': [0.001, 0.1, 1, 100, 1000],\n",
       "                         'lr__penalty': ['l2', 'l1', 'elasticnet'],\n",
       "                         'pca__n_components': range(1, 9)})"
      ]
     },
     "execution_count": 178,
     "metadata": {},
     "output_type": "execute_result"
    }
   ],
   "source": [
    "gs.fit(X_train, y_train)"
   ]
  },
  {
   "cell_type": "code",
   "execution_count": 179,
   "metadata": {},
   "outputs": [
    {
     "data": {
      "text/plain": [
       "0.9820312845521946"
      ]
     },
     "execution_count": 179,
     "metadata": {},
     "output_type": "execute_result"
    }
   ],
   "source": [
    "gs.best_score_"
   ]
  },
  {
   "cell_type": "code",
   "execution_count": 180,
   "metadata": {},
   "outputs": [
    {
     "data": {
      "text/plain": [
       "Pipeline(steps=[('col_trans',\n",
       "                 ColumnTransformer(remainder='passthrough', sparse_threshold=0,\n",
       "                                   transformers=[('ss', StandardScaler(),\n",
       "                                                  ['age', 'balance', 'housing',\n",
       "                                                   'personal', 'termdep']),\n",
       "                                                 ('ohe',\n",
       "                                                  OneHotEncoder(drop='if_binary',\n",
       "                                                                handle_unknown='ignore',\n",
       "                                                                sparse=False),\n",
       "                                                  ['job', 'marital',\n",
       "                                                   'education'])])),\n",
       "                ('pca', PCA(n_components=4)),\n",
       "                ('lr', LogisticRegression(C=0.1))])"
      ]
     },
     "execution_count": 180,
     "metadata": {},
     "output_type": "execute_result"
    }
   ],
   "source": [
    "gs.best_estimator_"
   ]
  },
  {
   "cell_type": "code",
   "execution_count": 181,
   "metadata": {},
   "outputs": [
    {
     "data": {
      "text/plain": [
       "{'col_trans__remainder': 'passthrough',\n",
       " 'lr__C': 0.1,\n",
       " 'lr__penalty': 'l2',\n",
       " 'pca__n_components': 4}"
      ]
     },
     "execution_count": 181,
     "metadata": {},
     "output_type": "execute_result"
    }
   ],
   "source": [
    "gs.best_params_"
   ]
  },
  {
   "cell_type": "code",
   "execution_count": 182,
   "metadata": {},
   "outputs": [
    {
     "data": {
      "text/plain": [
       "0.9823139277818718"
      ]
     },
     "execution_count": 182,
     "metadata": {},
     "output_type": "execute_result"
    }
   ],
   "source": [
    "gs.score(X_test, y_test)"
   ]
  },
  {
   "cell_type": "markdown",
   "metadata": {},
   "source": [
    "## Evaluation\n"
   ]
  },
  {
   "cell_type": "code",
   "execution_count": 193,
   "metadata": {},
   "outputs": [
    {
     "name": "stdout",
     "output_type": "stream",
     "text": [
      "0.01803712318146577\n",
      "0.9819628768185342\n"
     ]
    }
   ],
   "source": [
    "# Baseline model\n",
    "print(y_train.mean())\n",
    "# Baseline accuracy\n",
    "print(1 - y_train.mean()) \n",
    "# these are the predicted values\n",
    "y_pred = [y_train.mean()]*len(y_test)"
   ]
  },
  {
   "cell_type": "code",
   "execution_count": 190,
   "metadata": {},
   "outputs": [
    {
     "name": "stdout",
     "output_type": "stream",
     "text": [
      "0.9820312856295891\n",
      "0.9823139277818718\n"
     ]
    }
   ],
   "source": [
    "print(gs.score(X_train, y_train))\n",
    "print(gs.score(X_test, y_test))"
   ]
  },
  {
   "cell_type": "markdown",
   "metadata": {},
   "source": [
    "Pretty darn good modeling...\n",
    "The relationship between the customer's individual bank balance and credit default status of a customer change has a high accuracy score\n",
    "\n",
    "__Goal:__ predict credit default based on bank balance and other features. "
   ]
  },
  {
   "cell_type": "code",
   "execution_count": 196,
   "metadata": {},
   "outputs": [],
   "source": [
    "# y_preds = gs.predict_proba(X_train)\n",
    "# https://machinelearningmastery.com/make-predictions-scikit-learn/"
   ]
  },
  {
   "cell_type": "code",
   "execution_count": null,
   "metadata": {},
   "outputs": [],
   "source": [
    "# confusion_matrix(y_test, y_preds)"
   ]
  },
  {
   "cell_type": "markdown",
   "metadata": {},
   "source": [
    "## Conclusions & Next Steps"
   ]
  },
  {
   "cell_type": "markdown",
   "metadata": {},
   "source": [
    "*For portfolio use*\n",
    "\n",
    "\n",
    "__Problem:__ As the customer's individual bank balance decreases, how does the credit default status of a customer change? \n",
    "\n",
    "__Goal:__ predict credit default based on bank balance and other features. \n"
   ]
  }
 ],
 "metadata": {
  "kernelspec": {
   "display_name": "Python 3.8.12 ('dsi-222')",
   "language": "python",
   "name": "python3"
  },
  "language_info": {
   "codemirror_mode": {
    "name": "ipython",
    "version": 3
   },
   "file_extension": ".py",
   "mimetype": "text/x-python",
   "name": "python",
   "nbconvert_exporter": "python",
   "pygments_lexer": "ipython3",
   "version": "3.8.12"
  },
  "orig_nbformat": 4,
  "vscode": {
   "interpreter": {
    "hash": "ec913dcbef39c008784dc6fe095f00003c17434557640291833f1bcf12636147"
   }
  }
 },
 "nbformat": 4,
 "nbformat_minor": 2
}
