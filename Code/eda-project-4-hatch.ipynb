{
 "cells": [
  {
   "cell_type": "markdown",
   "metadata": {},
   "source": [
    "# Project 4 - Hackathon Project<br>\n",
    "\n",
    "Brandie Hatch"
   ]
  },
  {
   "cell_type": "markdown",
   "metadata": {},
   "source": [
    "- Problem Statement\n",
    "- Overview\n",
    "- Import Data\n",
    "- EDA\n",
    "- Preprocessing"
   ]
  },
  {
   "cell_type": "markdown",
   "metadata": {},
   "source": [
    "### Problem Statement<br>\n",
    "__Problem:__ As the customer's individual bank balance decreases, how does the credit default status of a customer change? \n",
    "\n",
    "__Goal:__ predict credit default based on bank balance. "
   ]
  },
  {
   "cell_type": "markdown",
   "metadata": {},
   "source": [
    "### Overview <br>\n",
    "\n",
    "The dataset that I chose is from the Bank Marketing Dataset on Kaggle.\n",
    "\n",
    "Source: https://www.kaggle.com/datasets/hariharanpavan/bank-marketing-dataset-analysis-classification?select=bank-full.csv\n",
    "\n",
    "| Feature   | Type | Description                                                                                |\n",
    "|-----------|------|--------------------------------------------------------------------------------------------|\n",
    "| age       |      | Age of customer                                                                            |\n",
    "| job       |      | Customer's job                                                                             |\n",
    "| marital   |      | Marital status of customer                                                                 |\n",
    "| education |      | Customer education level                                                                   |\n",
    "| default   |      | Customer has credit in default?                                                            |\n",
    "| balance   |      | Customer's individual bank balance                                                         |\n",
    "| housing   |      | Customer has housing loan?                                                                 |\n",
    "| loan      |      | Customer has personal loan?                                                                |\n",
    "| contact   |      | Communication type                                                                         |\n",
    "| day       |      | Last contact day of the week                                                               |\n",
    "| month     |      | Last contact month of the year                                                             |\n",
    "| duration  |      | Last contact duration, in seconds                                                          |\n",
    "| campaign  |      | Number of contacts performed before campaign for this client                               |\n",
    "| pdays     |      | Number of days that passed by after the client was last contacted from a previous campaign |\n",
    "| previous  |      | Number of contacts performed before this campaign and for this client                      |\n",
    "| poutcome  |      | Outcome of the previous marketing campaign                                                 |\n",
    "| termdep   |  obj    | Has the client subscribed to term deposit                                                  |"
   ]
  },
  {
   "cell_type": "markdown",
   "metadata": {},
   "source": [
    "### Import Data"
   ]
  },
  {
   "cell_type": "code",
   "execution_count": 1,
   "metadata": {},
   "outputs": [
    {
     "name": "stderr",
     "output_type": "stream",
     "text": [
      "c:\\Users\\hatch\\anaconda3\\envs\\dsi-222\\lib\\site-packages\\statsmodels\\compat\\pandas.py:61: FutureWarning: pandas.Int64Index is deprecated and will be removed from pandas in a future version. Use pandas.Index with the appropriate dtype instead.\n",
      "  from pandas import Int64Index as NumericIndex\n"
     ]
    }
   ],
   "source": [
    "# Imports\n",
    "import pandas as pd\n",
    "import numpy as np\n",
    "import matplotlib.pyplot as plt\n",
    "import seaborn as sns\n",
    "import scipy.stats as stats\n",
    "import statsmodels.api as sm\n",
    "\n",
    "%matplotlib inline\n",
    "\n",
    "from sklearn.linear_model import LinearRegression, LogisticRegression, LassoCV, RidgeCV, Ridge, Lasso, ElasticNet, ElasticNetCV\n",
    "from sklearn.metrics import mean_squared_error, r2_score, mean_absolute_error, confusion_matrix, plot_confusion_matrix, ConfusionMatrixDisplay\n",
    "from sklearn.neighbors import KNeighborsRegressor\n",
    "from sklearn.model_selection import train_test_split, cross_val_score, cross_val_predict, GridSearchCV, learning_curve\n",
    "from sklearn.preprocessing import StandardScaler, PolynomialFeatures, OneHotEncoder\n",
    "from sklearn.pipeline import Pipeline\n",
    "from sklearn.compose import make_column_transformer, ColumnTransformer, TransformedTargetRegressor\n",
    "\n",
    "pd.options.display.max_columns =999"
   ]
  },
  {
   "cell_type": "code",
   "execution_count": 2,
   "metadata": {},
   "outputs": [],
   "source": [
    "df = pd.read_csv(\"../data/bank-full.csv\")"
   ]
  },
  {
   "cell_type": "markdown",
   "metadata": {},
   "source": [
    "### EDA"
   ]
  },
  {
   "cell_type": "code",
   "execution_count": null,
   "metadata": {},
   "outputs": [],
   "source": []
  },
  {
   "cell_type": "markdown",
   "metadata": {},
   "source": [
    "### Preprocessing"
   ]
  },
  {
   "cell_type": "code",
   "execution_count": null,
   "metadata": {},
   "outputs": [],
   "source": []
  }
 ],
 "metadata": {
  "kernelspec": {
   "display_name": "Python 3.8.12 ('dsi-222')",
   "language": "python",
   "name": "python3"
  },
  "language_info": {
   "codemirror_mode": {
    "name": "ipython",
    "version": 3
   },
   "file_extension": ".py",
   "mimetype": "text/x-python",
   "name": "python",
   "nbconvert_exporter": "python",
   "pygments_lexer": "ipython3",
   "version": "3.8.12"
  },
  "orig_nbformat": 4,
  "vscode": {
   "interpreter": {
    "hash": "ec913dcbef39c008784dc6fe095f00003c17434557640291833f1bcf12636147"
   }
  }
 },
 "nbformat": 4,
 "nbformat_minor": 2
}
